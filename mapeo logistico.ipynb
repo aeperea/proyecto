{
 "metadata": {
  "name": ""
 },
 "nbformat": 3,
 "nbformat_minor": 0,
 "worksheets": [
  {
   "cells": [
    {
     "cell_type": "code",
     "collapsed": false,
     "input": [
      "import numpy as np\n",
      "from intervalo import *\n",
      "from difauto import *"
     ],
     "language": "python",
     "metadata": {},
     "outputs": [],
     "prompt_number": 4
    },
    {
     "cell_type": "code",
     "collapsed": false,
     "input": [
      "%matplotlib inline"
     ],
     "language": "python",
     "metadata": {},
     "outputs": [],
     "prompt_number": 5
    },
    {
     "cell_type": "code",
     "collapsed": false,
     "input": [
      "from matplotlib import pyplot as plt"
     ],
     "language": "python",
     "metadata": {},
     "outputs": [],
     "prompt_number": 6
    },
    {
     "cell_type": "code",
     "collapsed": false,
     "input": [
      "def f(x,r):\n",
      "    return r*(x-x**2)"
     ],
     "language": "python",
     "metadata": {},
     "outputs": [],
     "prompt_number": 7
    },
    {
     "cell_type": "code",
     "collapsed": false,
     "input": [
      "def f_n(x,r,n) :\n",
      "    if n > 1:\n",
      "        return f_n(f(x,r),r,n-1)\n",
      "    else :\n",
      "        return f(x,r)"
     ],
     "language": "python",
     "metadata": {},
     "outputs": [],
     "prompt_number": 8
    },
    {
     "cell_type": "code",
     "collapsed": false,
     "input": [
      "def f_n_deriv(x,r,n) :\n",
      "    return f_n(DifAuto(x,1),r,n).deriv"
     ],
     "language": "python",
     "metadata": {},
     "outputs": [],
     "prompt_number": 9
    },
    {
     "cell_type": "code",
     "collapsed": false,
     "input": [
      "def mapeo(r, x = 0.2, lista_r = None, lista_x = None, datos_a_guardar = 100, eps = 10e-8):\n",
      "        if lista_r is None:\n",
      "            lista_r = []\n",
      "        if lista_x is None:\n",
      "            lista_x = []\n",
      "        \n",
      "        primeras_iteraciones = 1000\n",
      "        rango = primeras_iteraciones + datos_a_guardar\n",
      "        for i in range(rango):\n",
      "            if i > primeras_iteraciones:\n",
      "                lista_x.append(x)\n",
      "                lista_r.append(r)\n",
      "            x = f(x,r)\n",
      "        M = np.array([lista_r, lista_x] )    \n",
      "        plt.plot( M[0], M[1], '.', markersize = .8, color = 'black' )\n",
      "        #\u00a0plt.scatter(M[0], M[1], s=1, color = 'black', marker='.')\n",
      "        return [r, M[1]]"
     ],
     "language": "python",
     "metadata": {},
     "outputs": [],
     "prompt_number": 10
    },
    {
     "cell_type": "code",
     "collapsed": false,
     "input": [
      "a = mapeo(3.46)[1]"
     ],
     "language": "python",
     "metadata": {},
     "outputs": [
      {
       "metadata": {},
       "output_type": "display_data",
       "png": "[encoded data removed]",
       "text": [
        "<matplotlib.figure.Figure at 0x107ab7f10>"
       ]
      }
     ],
     "prompt_number": 11
    },
    {
     "cell_type": "code",
     "collapsed": false,
     "input": [
      "def encontrar_puntos(r) :\n",
      "    a = mapeo(r)[1];\n",
      "    # borrar valores repetidos\n",
      "    seen = set()\n",
      "    seen_add = seen.add\n",
      "    res = [ x for x in a if x not in seen and not seen_add(x)]\n",
      "    res.sort()\n",
      "    return res"
     ],
     "language": "python",
     "metadata": {},
     "outputs": [],
     "prompt_number": 12
    },
    {
     "cell_type": "code",
     "collapsed": false,
     "input": [
      "encontrar_puntos(2.9)"
     ],
     "language": "python",
     "metadata": {},
     "outputs": [
      {
       "metadata": {},
       "output_type": "pyout",
       "prompt_number": 18,
       "text": [
        "[0.65517241379310276, 0.65517241379310409]"
       ]
      },
      {
       "metadata": {},
       "output_type": "display_data",
       "png": "[encoded data removed]",
       "text": [
        "<matplotlib.figure.Figure at 0x107b9c8d0>"
       ]
      }
     ],
     "prompt_number": 18
    },
    {
     "cell_type": "code",
     "collapsed": false,
     "input": [
      "def r_mapeo(R, n, x0 = 0.2, eps = 10e-8, lista_r = None, lista_x = None, M = None) :\n",
      "    delta_r = float(R.hi - R.lo)/n\n",
      "    \n",
      "    r = R.lo\n",
      "    while r <= R.hi :\n",
      "        r += delta_r\n",
      "        a = mapeo(r, x0, lista_r, lista_x)\n",
      "    else :\n",
      "        plt.show()"
     ],
     "language": "python",
     "metadata": {},
     "outputs": [],
     "prompt_number": 2
    },
    {
     "cell_type": "code",
     "collapsed": false,
     "input": [
      "R = Intervalo(2, 3.98)"
     ],
     "language": "python",
     "metadata": {},
     "outputs": [],
     "prompt_number": 11
    },
    {
     "cell_type": "code",
     "collapsed": false,
     "input": [
      "r_mapeo(R, 10000)"
     ],
     "language": "python",
     "metadata": {},
     "outputs": [
      {
       "metadata": {},
       "output_type": "display_data",
       "png": "[encoded data removed]",
       "text": [
        "<matplotlib.figure.Figure at 0x1128fb310>"
       ]
      }
     ],
     "prompt_number": 454
    },
    {
     "cell_type": "code",
     "collapsed": false,
     "input": [
      "def cobweb(r, x0=0.2, steps=1000, eps=1e-7):\n",
      "    x = np.linspace(0,1,1001)\n",
      "    y = f(x, r)\n",
      "    plt.plot(x, y, color=\"purple\")\n",
      "    plt.plot(x, x, color=\"blue\")\n",
      "    plt.axis([0, 1, 0, 1])\n",
      "    i = 1\n",
      "    \n",
      "    while (i < steps) :\n",
      "        xn = f(x0, r)\n",
      "        if i == 1 :\n",
      "            plt.plot([x0,x0],[0,f(x0,r)], color=\"red\")\n",
      "        \n",
      "        plt.plot([xn,xn],[f(x0,r),f(xn,r)], color=\"red\")     \n",
      "        plt.plot([x0,xn],[f(x0,r),xn], color=\"red\")\n",
      "        \n",
      "        if np.abs(xn - x0) < eps :\n",
      "            break\n",
      "        \n",
      "        x0 = xn\n",
      "        i += 1\n",
      "    \n",
      "    plt.grid()\n",
      "    plt.show()"
     ],
     "language": "python",
     "metadata": {},
     "outputs": [],
     "prompt_number": 20
    },
    {
     "cell_type": "code",
     "collapsed": false,
     "input": [
      "cobweb(3.4)"
     ],
     "language": "python",
     "metadata": {},
     "outputs": [
      {
       "metadata": {},
       "output_type": "display_data",
       "png": "[encoded data removed]",
       "text": [
        "<matplotlib.figure.Figure at 0x107be0810>"
       ]
      }
     ],
     "prompt_number": 21
    },
    {
     "cell_type": "code",
     "collapsed": false,
     "input": [
      "def prob_function(r, x0 = 0.2, steps=2000) :\n",
      "    a = mapeo(r, x0, None, None, steps)[1]\n",
      "    num_bins = 100\n",
      "    plt.hist(a, num_bins, color='blue',alpha=0.9)\n",
      "    lim_y = steps/10\n",
      "    plt.axis([0,1,0, lim_y])\n",
      "    plt.grid()\n",
      "    plt.show()"
     ],
     "language": "python",
     "metadata": {},
     "outputs": [],
     "prompt_number": 22
    },
    {
     "cell_type": "code",
     "collapsed": false,
     "input": [
      "prob_function(3.5, 0.762343, 1000000)"
     ],
     "language": "python",
     "metadata": {},
     "outputs": [
      {
       "metadata": {},
       "output_type": "display_data",
       "png": "[encoded data removed]",
       "text": [
        "<matplotlib.figure.Figure at 0x107ba7990>"
       ]
      }
     ],
     "prompt_number": 26
    },
    {
     "cell_type": "code",
     "collapsed": false,
     "input": [
      "def func(x,r,n) :\n",
      "    return x - f_n(x,r,n)"
     ],
     "language": "python",
     "metadata": {},
     "outputs": [],
     "prompt_number": 17
    },
    {
     "cell_type": "code",
     "collapsed": false,
     "input": [
      "def func_deriv(x,r,n) :\n",
      "    return func(DifAuto(x,1),r,n).deriv"
     ],
     "language": "python",
     "metadata": {},
     "outputs": [],
     "prompt_number": 18
    },
    {
     "cell_type": "code",
     "collapsed": false,
     "input": [
      "def met_newton(x, r, n, f, f_p, steps = 10000, epsilon = 1e-3) :\n",
      "        \n",
      "    ceros = []\n",
      "    intervalos = [x]\n",
      "    index = 0\n",
      "    terminar_ciclo = False\n",
      "    \n",
      "    while index < steps :\n",
      "        \n",
      "        cuenta_tolerancia = 0\n",
      "        nuevos_intervalos = []\n",
      "        \n",
      "        for x in intervalos :\n",
      "            if 0 in f_p(x,r,n) and (f_p(x,r,n).lo != 0 and f_p(x,r,n).hi != 0):\n",
      "                # el reciproco de f_p(x) va a devolver 2 intervalos\n",
      "                \n",
      "                x_1 = x & (x.middle() - f(x.middle(),r,n)*f_p(x,r,n).reciprocal()[0])\n",
      "                x_2 = x & (x.middle() - f(x.middle(),r,n)*f_p(x,r,n).reciprocal()[1])\n",
      "                \n",
      "                # print \"hey corte \", x\n",
      "                \n",
      "                if not isinstance(x_1, Intervalo) and not isinstance(x_2, Intervalo):\n",
      "                    nuevos_intervalos.append(x)\n",
      "                else :\n",
      "                    if x_1 in x :\n",
      "                        # print \"inclui x_1\", x_1\n",
      "                        nuevos_intervalos.append(x_1) \n",
      "                    if x_2 in x :\n",
      "                        # print \"inclui x_2\", x_2\n",
      "                        nuevos_intervalos.append(x_2)\n",
      "            else :\n",
      "                x_new = x & (x.middle() - f(x.middle(),r,n)*f_p(x,r,n).reciprocal())\n",
      "                if not isinstance(x_new, Intervalo) :\n",
      "                    x_new = x\n",
      "                if x_new in x:\n",
      "                    # print \"no corte\", x, \"e inclui x_new\", x_new\n",
      "                    nuevos_intervalos.append(x_new)\n",
      "        \n",
      "        nuevos_intervalos[:] = (value for value in nuevos_intervalos if isinstance(value, Intervalo))\n",
      "        for x_new in nuevos_intervalos :\n",
      "            if abs(x_new.width()) < epsilon :\n",
      "                cuenta_tolerancia += 1\n",
      "                \n",
      "        if cuenta_tolerancia == len(nuevos_intervalos) :\n",
      "            intervalos = nuevos_intervalos\n",
      "            terminar_ciclo = True\n",
      "        \n",
      "        # print \"antes:\", intervalos\n",
      "        intervalos = nuevos_intervalos\n",
      "        # print \"despues\", intervalos\n",
      "        # print \"fin de vuelta\"\n",
      "        \n",
      "        \n",
      "        if terminar_ciclo == True :\n",
      "            break\n",
      "        index += 1\n",
      "    \n",
      "    intervalos[:] = (value for value in intervalos if value.width() < epsilon)\n",
      "    ceros = intervalos\n",
      "    return ceros\n"
     ],
     "language": "python",
     "metadata": {},
     "outputs": [],
     "prompt_number": 19
    },
    {
     "cell_type": "code",
     "collapsed": false,
     "input": [
      "met_newton(Intervalo(0.01,1),3.2,2,func,func_deriv,50)"
     ],
     "language": "python",
     "metadata": {},
     "outputs": [
      {
       "output_type": "stream",
       "stream": "stdout",
       "text": [
        "Advertencia: El intervalo contiene el cero\n",
        "Advertencia: El intervalo contiene el cero\n",
        "Advertencia: El intervalo contiene el cero\n",
        "Advertencia: El intervalo contiene el cero\n",
        "Advertencia: El intervalo contiene el cero\n",
        "Advertencia: El intervalo contiene el cero\n",
        "Advertencia: El intervalo contiene el cero\n",
        "Advertencia: El intervalo contiene el cero\n",
        "Advertencia: El intervalo contiene el cero\n",
        "Advertencia: El intervalo contiene el cero\n",
        "Advertencia: El intervalo contiene el cero\n",
        "Advertencia: El intervalo contiene el cero\n",
        "Advertencia: El intervalo contiene el cero\n",
        "Advertencia: El intervalo contiene el cero\n",
        "Advertencia: El intervalo contiene el cero\n",
        "Advertencia: El intervalo contiene el cero\n",
        "Advertencia: El intervalo contiene el cero\n",
        "Advertencia: El intervalo contiene el cero\n",
        "Advertencia: El intervalo contiene el cero\n",
        "Advertencia: El intervalo contiene el cero\n",
        "Advertencia: El intervalo contiene el cero\n",
        "Advertencia: El intervalo contiene el cero\n",
        "Advertencia: El intervalo contiene el cero\n",
        "Advertencia: El intervalo contiene el cero\n",
        "Advertencia: El intervalo contiene el cero\n",
        "Advertencia: El intervalo contiene el cero\n",
        "Advertencia: El intervalo contiene el cero\n",
        "Advertencia: El intervalo contiene el cero\n",
        "Advertencia: El intervalo contiene el cero\n",
        "Advertencia: El intervalo contiene el cero\n",
        "Advertencia: El intervalo contiene el cero\n",
        "Advertencia: El intervalo contiene el cero\n",
        "Advertencia: El intervalo contiene el cero\n",
        "Advertencia: El intervalo contiene el cero\n",
        "Advertencia: El intervalo contiene el cero\n",
        "Advertencia: El intervalo contiene el cero\n",
        "Advertencia: El intervalo contiene el cero\n",
        "Advertencia: El intervalo contiene el cero\n",
        "Advertencia: El intervalo contiene el cero\n",
        "Advertencia: El intervalo contiene el cero\n"
       ]
      },
      {
       "metadata": {},
       "output_type": "pyout",
       "prompt_number": 70,
       "text": [
        "[Intervalo [0.6875,0.6875],\n",
        " Intervalo [0.654804557406,0.655409820863],\n",
        " Intervalo [0.691499227194,0.692444341742],\n",
        " Intervalo [0.751315854477,0.752169291492],\n",
        " Intervalo [0.513044509533,0.513044509533],\n",
        " Intervalo [0.813388185751,0.813781072341],\n",
        " Intervalo [0.799455490467,0.799455490467]]"
       ]
      }
     ],
     "prompt_number": 70
    },
    {
     "cell_type": "code",
     "collapsed": false,
     "input": [
      "def encontrar_bifurcaciones(R, steps=1000):\n",
      "\n",
      "    X = Intervalo(0.01,1)\n",
      "    orden = 1\n",
      "    r = R.lo\n",
      "    r_fin = R.hi\n",
      "    delta_r = float(r_fin - r)/steps\n",
      "    lista = []\n",
      "    eps = 1e-5\n",
      "    \n",
      "    while r < r_fin :\n",
      "        res = met_newton(X, r, orden, func, func_deriv, 25)\n",
      "        r = r + delta_r\n",
      "        x0 = res[0].middle()\n",
      "        val = abs(f_n_deriv(x0, r, orden))\n",
      "        if val > 1 :\n",
      "            orden = orden*2\n",
      "            lista.append([r,x0])\n",
      "    return lista"
     ],
     "language": "python",
     "metadata": {},
     "outputs": [],
     "prompt_number": 60
    },
    {
     "cell_type": "code",
     "collapsed": false,
     "input": [
      "R = Intervalo(2.5,3.5)"
     ],
     "language": "python",
     "metadata": {},
     "outputs": [],
     "prompt_number": 61
    },
    {
     "cell_type": "code",
     "collapsed": false,
     "input": [
      "l = encontrar_bifurcaciones(R,101)"
     ],
     "language": "python",
     "metadata": {},
     "outputs": [
      {
       "output_type": "stream",
       "stream": "stdout",
       "text": [
        "Advertencia: El intervalo contiene el cero\n",
        "Advertencia: El intervalo contiene el cero\n",
        "Advertencia: El intervalo contiene el cero\n",
        "Advertencia: El intervalo contiene el cero\n",
        "Advertencia: El intervalo contiene el cero\n",
        "Advertencia: El intervalo contiene el cero\n",
        "Advertencia: El intervalo contiene el cero\n",
        "Advertencia: El intervalo contiene el cero\n",
        "Advertencia: El intervalo contiene el cero\n",
        "Advertencia: El intervalo contiene el cero\n",
        "Advertencia: El intervalo contiene el cero\n",
        "Advertencia: El intervalo contiene el cero\n",
        "Advertencia: El intervalo contiene el cero\n",
        "Advertencia: El intervalo contiene el cero\n",
        "Advertencia: El intervalo contiene el cero\n",
        "Advertencia: El intervalo contiene el cero\n",
        "Advertencia: El intervalo contiene el cero\n",
        "Advertencia: El intervalo contiene el cero\n",
        "Advertencia: El intervalo contiene el cero\n",
        "Advertencia: El intervalo contiene el cero\n",
        "Advertencia: El intervalo contiene el cero\n",
        "Advertencia: El intervalo contiene el cero\n",
        "Advertencia: El intervalo contiene el cero\n",
        "Advertencia: El intervalo contiene el cero\n",
        "Advertencia: El intervalo contiene el cero\n",
        "Advertencia: El intervalo contiene el cero\n",
        "Advertencia: El intervalo contiene el cero\n",
        "Advertencia: El intervalo contiene el cero\n",
        "Advertencia: El intervalo contiene el cero\n",
        "Advertencia: El intervalo contiene el cero\n",
        "Advertencia: El intervalo contiene el cero\n",
        "Advertencia: El intervalo contiene el cero\n",
        "Advertencia: El intervalo contiene el cero\n",
        "Advertencia: El intervalo contiene el cero\n",
        "Advertencia: El intervalo contiene el cero\n",
        "Advertencia: El intervalo contiene el cero"
       ]
      },
      {
       "output_type": "stream",
       "stream": "stdout",
       "text": [
        "\n",
        "Advertencia: El intervalo contiene el cero\n",
        "Advertencia: El intervalo contiene el cero\n",
        "Advertencia: El intervalo contiene el cero\n",
        "Advertencia: El intervalo contiene el cero\n",
        "Advertencia: El intervalo contiene el cero\n",
        "Advertencia: El intervalo contiene el cero\n",
        "Advertencia: El intervalo contiene el cero\n",
        "Advertencia: El intervalo contiene el cero\n",
        "Advertencia: El intervalo contiene el cero\n",
        "Advertencia: El intervalo contiene el cero\n",
        "Advertencia: El intervalo contiene el cero\n",
        "Advertencia: El intervalo contiene el cero\n",
        "Advertencia: El intervalo contiene el cero\n",
        "Advertencia: El intervalo contiene el cero\n",
        "Advertencia: El intervalo contiene el cero\n",
        "Advertencia: El intervalo contiene el cero\n",
        "Advertencia: El intervalo contiene el cero\n",
        "Advertencia: El intervalo contiene el cero\n",
        "Advertencia: El intervalo contiene el cero\n",
        "Advertencia: El intervalo contiene el cero\n",
        "Advertencia: El intervalo contiene el cero\n",
        "Advertencia: El intervalo contiene el cero\n",
        "Advertencia: El intervalo contiene el cero\n",
        "Advertencia: El intervalo contiene el cero\n",
        "Advertencia: El intervalo contiene el cero\n",
        "Advertencia: El intervalo contiene el cero\n",
        "Advertencia: El intervalo contiene el cero\n",
        "Advertencia: El intervalo contiene el cero\n",
        "Advertencia: El intervalo contiene el cero\n",
        "Advertencia: El intervalo contiene el cero\n",
        "Advertencia: El intervalo contiene el cero\n",
        "Advertencia: El intervalo contiene el cero\n",
        "Advertencia: El intervalo contiene el cero\n",
        "Advertencia: El intervalo contiene el cero\n"
       ]
      }
     ],
     "prompt_number": 62
    },
    {
     "cell_type": "code",
     "collapsed": false,
     "input": [
      "l"
     ],
     "language": "python",
     "metadata": {},
     "outputs": [
      {
       "metadata": {},
       "output_type": "pyout",
       "prompt_number": 63,
       "text": [
        "[[3.004950495049483, 0.6666556652034696]]"
       ]
      }
     ],
     "prompt_number": 63
    },
    {
     "cell_type": "code",
     "collapsed": false,
     "input": [],
     "language": "python",
     "metadata": {},
     "outputs": []
    }
   ],
   "metadata": {}
  }
 ]
}